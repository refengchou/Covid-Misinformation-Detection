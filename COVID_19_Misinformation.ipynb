{
  "nbformat": 4,
  "nbformat_minor": 0,
  "metadata": {
    "accelerator": "GPU",
    "colab": {
      "name": "COVID-19 Misinformation",
      "provenance": [],
      "collapsed_sections": [],
      "machine_shape": "hm"
    },
    "kernelspec": {
      "display_name": "Python 3",
      "name": "python3"
    }
  },
  "cells": [
    {
      "cell_type": "code",
      "metadata": {
        "colab": {
          "base_uri": "https://localhost:8080/"
        },
        "id": "vAlVdHa-lgDz",
        "outputId": "981f9120-24ed-4db7-824a-a71a0ef4d4de"
      },
      "source": [
        "!pip install keras\n",
        "!pip install tensorflow\n",
        "!pip install pytorch_pretrained_bert pytorch-nlp"
      ],
      "execution_count": null,
      "outputs": [
        {
          "output_type": "stream",
          "text": [
            "Requirement already satisfied: keras in /usr/local/lib/python3.7/dist-packages (2.4.3)\n",
            "Requirement already satisfied: h5py in /usr/local/lib/python3.7/dist-packages (from keras) (2.10.0)\n",
            "Requirement already satisfied: scipy>=0.14 in /usr/local/lib/python3.7/dist-packages (from keras) (1.4.1)\n",
            "Requirement already satisfied: pyyaml in /usr/local/lib/python3.7/dist-packages (from keras) (3.13)\n",
            "Requirement already satisfied: numpy>=1.9.1 in /usr/local/lib/python3.7/dist-packages (from keras) (1.19.5)\n",
            "Requirement already satisfied: six in /usr/local/lib/python3.7/dist-packages (from h5py->keras) (1.15.0)\n",
            "Requirement already satisfied: tensorflow in /usr/local/lib/python3.7/dist-packages (2.4.1)\n",
            "Requirement already satisfied: termcolor~=1.1.0 in /usr/local/lib/python3.7/dist-packages (from tensorflow) (1.1.0)\n",
            "Requirement already satisfied: wheel~=0.35 in /usr/local/lib/python3.7/dist-packages (from tensorflow) (0.36.2)\n",
            "Requirement already satisfied: astunparse~=1.6.3 in /usr/local/lib/python3.7/dist-packages (from tensorflow) (1.6.3)\n",
            "Requirement already satisfied: h5py~=2.10.0 in /usr/local/lib/python3.7/dist-packages (from tensorflow) (2.10.0)\n",
            "Requirement already satisfied: tensorboard~=2.4 in /usr/local/lib/python3.7/dist-packages (from tensorflow) (2.4.1)\n",
            "Requirement already satisfied: grpcio~=1.32.0 in /usr/local/lib/python3.7/dist-packages (from tensorflow) (1.32.0)\n",
            "Requirement already satisfied: flatbuffers~=1.12.0 in /usr/local/lib/python3.7/dist-packages (from tensorflow) (1.12)\n",
            "Requirement already satisfied: tensorflow-estimator<2.5.0,>=2.4.0 in /usr/local/lib/python3.7/dist-packages (from tensorflow) (2.4.0)\n",
            "Requirement already satisfied: google-pasta~=0.2 in /usr/local/lib/python3.7/dist-packages (from tensorflow) (0.2.0)\n",
            "Requirement already satisfied: six~=1.15.0 in /usr/local/lib/python3.7/dist-packages (from tensorflow) (1.15.0)\n",
            "Requirement already satisfied: typing-extensions~=3.7.4 in /usr/local/lib/python3.7/dist-packages (from tensorflow) (3.7.4.3)\n",
            "Requirement already satisfied: wrapt~=1.12.1 in /usr/local/lib/python3.7/dist-packages (from tensorflow) (1.12.1)\n",
            "Requirement already satisfied: gast==0.3.3 in /usr/local/lib/python3.7/dist-packages (from tensorflow) (0.3.3)\n",
            "Requirement already satisfied: protobuf>=3.9.2 in /usr/local/lib/python3.7/dist-packages (from tensorflow) (3.12.4)\n",
            "Requirement already satisfied: numpy~=1.19.2 in /usr/local/lib/python3.7/dist-packages (from tensorflow) (1.19.5)\n",
            "Requirement already satisfied: keras-preprocessing~=1.1.2 in /usr/local/lib/python3.7/dist-packages (from tensorflow) (1.1.2)\n",
            "Requirement already satisfied: opt-einsum~=3.3.0 in /usr/local/lib/python3.7/dist-packages (from tensorflow) (3.3.0)\n",
            "Requirement already satisfied: absl-py~=0.10 in /usr/local/lib/python3.7/dist-packages (from tensorflow) (0.10.0)\n",
            "Requirement already satisfied: google-auth-oauthlib<0.5,>=0.4.1 in /usr/local/lib/python3.7/dist-packages (from tensorboard~=2.4->tensorflow) (0.4.2)\n",
            "Requirement already satisfied: requests<3,>=2.21.0 in /usr/local/lib/python3.7/dist-packages (from tensorboard~=2.4->tensorflow) (2.23.0)\n",
            "Requirement already satisfied: tensorboard-plugin-wit>=1.6.0 in /usr/local/lib/python3.7/dist-packages (from tensorboard~=2.4->tensorflow) (1.8.0)\n",
            "Requirement already satisfied: setuptools>=41.0.0 in /usr/local/lib/python3.7/dist-packages (from tensorboard~=2.4->tensorflow) (53.0.0)\n",
            "Requirement already satisfied: markdown>=2.6.8 in /usr/local/lib/python3.7/dist-packages (from tensorboard~=2.4->tensorflow) (3.3.3)\n",
            "Requirement already satisfied: werkzeug>=0.11.15 in /usr/local/lib/python3.7/dist-packages (from tensorboard~=2.4->tensorflow) (1.0.1)\n",
            "Requirement already satisfied: google-auth<2,>=1.6.3 in /usr/local/lib/python3.7/dist-packages (from tensorboard~=2.4->tensorflow) (1.27.0)\n",
            "Requirement already satisfied: requests-oauthlib>=0.7.0 in /usr/local/lib/python3.7/dist-packages (from google-auth-oauthlib<0.5,>=0.4.1->tensorboard~=2.4->tensorflow) (1.3.0)\n",
            "Requirement already satisfied: chardet<4,>=3.0.2 in /usr/local/lib/python3.7/dist-packages (from requests<3,>=2.21.0->tensorboard~=2.4->tensorflow) (3.0.4)\n",
            "Requirement already satisfied: idna<3,>=2.5 in /usr/local/lib/python3.7/dist-packages (from requests<3,>=2.21.0->tensorboard~=2.4->tensorflow) (2.10)\n",
            "Requirement already satisfied: urllib3!=1.25.0,!=1.25.1,<1.26,>=1.21.1 in /usr/local/lib/python3.7/dist-packages (from requests<3,>=2.21.0->tensorboard~=2.4->tensorflow) (1.24.3)\n",
            "Requirement already satisfied: certifi>=2017.4.17 in /usr/local/lib/python3.7/dist-packages (from requests<3,>=2.21.0->tensorboard~=2.4->tensorflow) (2020.12.5)\n",
            "Requirement already satisfied: importlib-metadata; python_version < \"3.8\" in /usr/local/lib/python3.7/dist-packages (from markdown>=2.6.8->tensorboard~=2.4->tensorflow) (3.4.0)\n",
            "Requirement already satisfied: rsa<5,>=3.1.4; python_version >= \"3.6\" in /usr/local/lib/python3.7/dist-packages (from google-auth<2,>=1.6.3->tensorboard~=2.4->tensorflow) (4.7.1)\n",
            "Requirement already satisfied: pyasn1-modules>=0.2.1 in /usr/local/lib/python3.7/dist-packages (from google-auth<2,>=1.6.3->tensorboard~=2.4->tensorflow) (0.2.8)\n",
            "Requirement already satisfied: cachetools<5.0,>=2.0.0 in /usr/local/lib/python3.7/dist-packages (from google-auth<2,>=1.6.3->tensorboard~=2.4->tensorflow) (4.2.1)\n",
            "Requirement already satisfied: oauthlib>=3.0.0 in /usr/local/lib/python3.7/dist-packages (from requests-oauthlib>=0.7.0->google-auth-oauthlib<0.5,>=0.4.1->tensorboard~=2.4->tensorflow) (3.1.0)\n",
            "Requirement already satisfied: zipp>=0.5 in /usr/local/lib/python3.7/dist-packages (from importlib-metadata; python_version < \"3.8\"->markdown>=2.6.8->tensorboard~=2.4->tensorflow) (3.4.0)\n",
            "Requirement already satisfied: pyasn1>=0.1.3 in /usr/local/lib/python3.7/dist-packages (from rsa<5,>=3.1.4; python_version >= \"3.6\"->google-auth<2,>=1.6.3->tensorboard~=2.4->tensorflow) (0.4.8)\n",
            "Collecting pytorch_pretrained_bert\n",
            "\u001b[?25l  Downloading https://files.pythonhosted.org/packages/d7/e0/c08d5553b89973d9a240605b9c12404bcf8227590de62bae27acbcfe076b/pytorch_pretrained_bert-0.6.2-py3-none-any.whl (123kB)\n",
            "\u001b[K     |████████████████████████████████| 133kB 8.4MB/s \n",
            "\u001b[?25hCollecting pytorch-nlp\n",
            "\u001b[?25l  Downloading https://files.pythonhosted.org/packages/4f/51/f0ee1efb75f7cc2e3065c5da1363d6be2eec79691b2821594f3f2329528c/pytorch_nlp-0.5.0-py3-none-any.whl (90kB)\n",
            "\u001b[K     |████████████████████████████████| 92kB 10.7MB/s \n",
            "\u001b[?25hRequirement already satisfied: tqdm in /usr/local/lib/python3.7/dist-packages (from pytorch_pretrained_bert) (4.41.1)\n",
            "Requirement already satisfied: torch>=0.4.1 in /usr/local/lib/python3.7/dist-packages (from pytorch_pretrained_bert) (1.7.0+cu101)\n",
            "Requirement already satisfied: numpy in /usr/local/lib/python3.7/dist-packages (from pytorch_pretrained_bert) (1.19.5)\n",
            "Requirement already satisfied: regex in /usr/local/lib/python3.7/dist-packages (from pytorch_pretrained_bert) (2019.12.20)\n",
            "Collecting boto3\n",
            "\u001b[?25l  Downloading https://files.pythonhosted.org/packages/75/3d/d511855b6f9d4358a597b41f1e0dab0fe21896c8128248972560637b9dc1/boto3-1.17.15-py2.py3-none-any.whl (130kB)\n",
            "\u001b[K     |████████████████████████████████| 133kB 27.0MB/s \n",
            "\u001b[?25hRequirement already satisfied: requests in /usr/local/lib/python3.7/dist-packages (from pytorch_pretrained_bert) (2.23.0)\n",
            "Requirement already satisfied: dataclasses in /usr/local/lib/python3.7/dist-packages (from torch>=0.4.1->pytorch_pretrained_bert) (0.6)\n",
            "Requirement already satisfied: future in /usr/local/lib/python3.7/dist-packages (from torch>=0.4.1->pytorch_pretrained_bert) (0.16.0)\n",
            "Requirement already satisfied: typing-extensions in /usr/local/lib/python3.7/dist-packages (from torch>=0.4.1->pytorch_pretrained_bert) (3.7.4.3)\n",
            "Collecting jmespath<1.0.0,>=0.7.1\n",
            "  Downloading https://files.pythonhosted.org/packages/07/cb/5f001272b6faeb23c1c9e0acc04d48eaaf5c862c17709d20e3469c6e0139/jmespath-0.10.0-py2.py3-none-any.whl\n",
            "Collecting botocore<1.21.0,>=1.20.15\n",
            "\u001b[?25l  Downloading https://files.pythonhosted.org/packages/67/07/624f68bdc0a2b299f2e45656402ae339545e9eb956dec8e5baf8bdc996a3/botocore-1.20.15-py2.py3-none-any.whl (7.3MB)\n",
            "\u001b[K     |████████████████████████████████| 7.3MB 28.5MB/s \n",
            "\u001b[?25hCollecting s3transfer<0.4.0,>=0.3.0\n",
            "\u001b[?25l  Downloading https://files.pythonhosted.org/packages/ea/43/4b4a1b26eb03a429a4c37ca7fdf369d938bd60018fc194e94b8379b0c77c/s3transfer-0.3.4-py2.py3-none-any.whl (69kB)\n",
            "\u001b[K     |████████████████████████████████| 71kB 10.9MB/s \n",
            "\u001b[?25hRequirement already satisfied: chardet<4,>=3.0.2 in /usr/local/lib/python3.7/dist-packages (from requests->pytorch_pretrained_bert) (3.0.4)\n",
            "Requirement already satisfied: urllib3!=1.25.0,!=1.25.1,<1.26,>=1.21.1 in /usr/local/lib/python3.7/dist-packages (from requests->pytorch_pretrained_bert) (1.24.3)\n",
            "Requirement already satisfied: certifi>=2017.4.17 in /usr/local/lib/python3.7/dist-packages (from requests->pytorch_pretrained_bert) (2020.12.5)\n",
            "Requirement already satisfied: idna<3,>=2.5 in /usr/local/lib/python3.7/dist-packages (from requests->pytorch_pretrained_bert) (2.10)\n",
            "Requirement already satisfied: python-dateutil<3.0.0,>=2.1 in /usr/local/lib/python3.7/dist-packages (from botocore<1.21.0,>=1.20.15->boto3->pytorch_pretrained_bert) (2.8.1)\n",
            "Requirement already satisfied: six>=1.5 in /usr/local/lib/python3.7/dist-packages (from python-dateutil<3.0.0,>=2.1->botocore<1.21.0,>=1.20.15->boto3->pytorch_pretrained_bert) (1.15.0)\n",
            "\u001b[31mERROR: botocore 1.20.15 has requirement urllib3<1.27,>=1.25.4, but you'll have urllib3 1.24.3 which is incompatible.\u001b[0m\n",
            "Installing collected packages: jmespath, botocore, s3transfer, boto3, pytorch-pretrained-bert, pytorch-nlp\n",
            "Successfully installed boto3-1.17.15 botocore-1.20.15 jmespath-0.10.0 pytorch-nlp-0.5.0 pytorch-pretrained-bert-0.6.2 s3transfer-0.3.4\n"
          ],
          "name": "stdout"
        }
      ]
    },
    {
      "cell_type": "code",
      "metadata": {
        "id": "Pe96P-tul3a9"
      },
      "source": [
        "%matplotlib inline\n",
        "import sys\n",
        "import itertools\n",
        "import numpy as np\n",
        "import random as rn\n",
        "import matplotlib.pyplot as plt\n",
        "import torch\n",
        "from pytorch_pretrained_bert import BertModel\n",
        "from torch import nn\n",
        "from torchnlp.datasets import imdb_dataset\n",
        "from pytorch_pretrained_bert import BertTokenizer\n",
        "from keras.preprocessing.sequence import pad_sequences\n",
        "from torch.utils.data import TensorDataset, DataLoader, RandomSampler, SequentialSampler\n",
        "from torch.optim import Adam\n",
        "from torch.nn.utils import clip_grad_norm_\n",
        "from IPython.display import clear_output\n",
        "import numpy as np\n",
        "import pandas as pd\n",
        "\n",
        "from sklearn.model_selection import train_test_split\n",
        "from sklearn.linear_model import LogisticRegression\n",
        "from sklearn.model_selection import GridSearchCV\n",
        "from sklearn.model_selection import cross_val_score\n",
        "import warnings\n",
        "warnings.filterwarnings('ignore')"
      ],
      "execution_count": null,
      "outputs": []
    },
    {
      "cell_type": "code",
      "metadata": {
        "id": "_w5aHVXLsvx2"
      },
      "source": [
        "rn.seed(321)\n",
        "np.random.seed(321)\n",
        "torch.manual_seed(321)\n",
        "torch.cuda.manual_seed(321)\n",
        "torch.backends.cudnn.deterministic = True\n",
        "torch.backends.cudnn.benchmark = False\n",
        "from sklearn.model_selection import StratifiedKFold\n",
        "from sklearn.linear_model import LinearRegression\n",
        "from sklearn.feature_extraction.text import CountVectorizer\n",
        "from sklearn.linear_model import LogisticRegression\n",
        "from sklearn.pipeline import make_pipeline\n",
        "from sklearn.metrics import classification_report\n",
        "from sklearn.metrics import roc_auc_score\n"
      ],
      "execution_count": null,
      "outputs": []
    },
    {
      "cell_type": "code",
      "metadata": {
        "colab": {
          "base_uri": "https://localhost:8080/"
        },
        "id": "OvA7Ab7Ql8AH",
        "outputId": "e2734ac9-c7f1-4c7d-ca3e-ab12fc8b48ec"
      },
      "source": [
        "\n",
        "distBertCovid = []\n",
        "bertResultCovid = []\n",
        "device = torch.device(\"cuda\" if torch.cuda.is_available() else \"cpu\")\n",
        "n_split = 10\n",
        "class BertBinaryClassifier(nn.Module):\n",
        "    def __init__(self, dropout=0.1):\n",
        "        super(BertBinaryClassifier, self).__init__()\n",
        "\n",
        "        self.bert = BertModel.from_pretrained('bert-base-uncased')\n",
        "        self.linear = nn.Linear(768, 1)\n",
        "    \n",
        "    def forward(self, tokens, masks=None):\n",
        "        _, pooled_output = self.bert(tokens, attention_mask=masks, output_all_encoded_layers=False)\n",
        "        linear_output = self.linear(pooled_output)\n",
        "        return linear_output\n",
        "def sigmoid(x):                                        \n",
        "    return 1 / (1 + np.exp(-x))        \n",
        "bert_clf = BertBinaryClassifier()\n",
        "bert_clf = bert_clf.cuda()\n",
        "BATCH_SIZE = 12\n",
        "EPOCHS = 3\n",
        "optimizer = Adam(bert_clf.parameters(), lr=3e-5)\n",
        "loss_func = nn.BCEWithLogitsLoss().cuda()\n",
        "\n",
        "df = pd.read_csv('Covid19.csv' , header = 0, usecols=[0,1], encoding='latin-1')\n",
        "\n",
        "df = df.sample(frac=1).reset_index(drop=True)\n",
        "batch_1 = df\n",
        "Kfold = StratifiedKFold(n_splits=n_split, random_state=0).split(batch_1, batch_1['label'])\n",
        "\n",
        "#train_data, test_data = train_test_split(batch_1,test_size=0.2)\n",
        "#len(train_data), len(test_data)\n",
        "#train_texts = tuple(train_data['text']);\n",
        "#test_texts = tuple(test_data['text']);\n",
        "#train_labels = tuple(train_data['label']);\n",
        "#test_labels = tuple(test_data['label']);\n",
        "#df.head\n",
        "tokenizer = BertTokenizer.from_pretrained('bert-base-uncased', do_lower_case=True)\n",
        "bertY = []\n",
        "Y = []\n",
        "bertYProb = []\n",
        "distilBertY = []\n",
        "distilBertYProb = []\n",
        "for n_fold, (train_index, test_index) in enumerate(Kfold):\n",
        "    \n",
        "    train_data = batch_1.loc[train_index]\n",
        "    test_data = batch_1.loc[test_index]\n",
        "    train_texts = tuple(train_data['text']);\n",
        "    test_texts = tuple(test_data['text']);\n",
        "    train_labels = tuple(train_data['label']);\n",
        "    test_labels = tuple(test_data['label']);\n",
        "    train_tokens = list(map(lambda t: ['[CLS]'] + tokenizer.tokenize(t)[:511], train_texts))\n",
        "    test_tokens = list(map(lambda t: ['[CLS]'] + tokenizer.tokenize(t)[:511], test_texts))\n",
        "    train_tokens_ids = list(map(tokenizer.convert_tokens_to_ids, train_tokens))\n",
        "    test_tokens_ids = list(map(tokenizer.convert_tokens_to_ids, test_tokens))\n",
        "    train_tokens_ids = pad_sequences(train_tokens_ids, maxlen=512, truncating=\"post\", padding=\"post\", dtype=\"int\")\n",
        "    test_tokens_ids = pad_sequences(test_tokens_ids, maxlen=512, truncating=\"post\", padding=\"post\", dtype=\"int\")\n",
        "    train_y = np.array(train_labels) == 'pos'\n",
        "    test_y = np.array(test_labels) == 'pos'\n",
        "    train_y.shape, test_y.shape, np.mean(train_y), np.mean(test_y)\n",
        "    train_masks = [[float(i > 0) for i in ii] for ii in train_tokens_ids]\n",
        "    test_masks = [[float(i > 0) for i in ii] for ii in test_tokens_ids]\n",
        "    train_tokens_tensor = torch.tensor(train_tokens_ids)\n",
        "    train_y_tensor = torch.tensor(train_y.reshape(-1, 1)).float()\n",
        "\n",
        "    test_tokens_tensor = torch.tensor(test_tokens_ids)\n",
        "    test_y_tensor = torch.tensor(test_y.reshape(-1, 1)).float()\n",
        "\n",
        "    train_masks_tensor = torch.tensor(train_masks)\n",
        "    test_masks_tensor = torch.tensor(test_masks)\n",
        "    train_dataset = TensorDataset(train_tokens_tensor, train_masks_tensor, train_y_tensor)\n",
        "    train_sampler = RandomSampler(train_dataset)\n",
        "    train_dataloader = DataLoader(train_dataset, sampler=train_sampler, batch_size=BATCH_SIZE)\n",
        "\n",
        "    test_dataset = TensorDataset(test_tokens_tensor, test_masks_tensor, test_y_tensor)\n",
        "    test_sampler = SequentialSampler(test_dataset)\n",
        "    test_dataloader = DataLoader(test_dataset, sampler=test_sampler, batch_size=BATCH_SIZE)\n",
        "    losses = []\n",
        "    steps = []\n",
        "    step = 0\n",
        "    for epoch_num in range(EPOCHS):\n",
        "        bert_clf.train()\n",
        "        train_loss = 0\n",
        "        for step_num, batch_data in enumerate(train_dataloader):\n",
        "            token_ids, masks, labels = tuple(t.to(device) for t in batch_data)\n",
        "            probas = bert_clf(token_ids, masks)\n",
        "        \n",
        "            batch_loss = loss_func(probas, labels)\n",
        "            train_loss += batch_loss.item()\n",
        "        \n",
        "        \n",
        "            bert_clf.zero_grad()\n",
        "            batch_loss.backward()\n",
        "        \n",
        "\n",
        "            clip_grad_norm_(parameters=bert_clf.parameters(), max_norm=1.0)\n",
        "            optimizer.step()\n",
        "        \n",
        "            clear_output(wait=True)\n",
        "            print('Epoch: ', epoch_num + 1)\n",
        "            print(\"{0}/{1} loss: {2} \".format(step_num, len(train_data) / BATCH_SIZE, train_loss / (step_num + 1)))\n",
        "            losses.append(batch_loss.item())\n",
        "            steps.append(step)\n",
        "            step += 1\n",
        "    #str(torch.cuda.memory_allocated(device)/1000000 ) + 'M'\n",
        "    bert_clf.eval()\n",
        "    bert_predicted_y = []\n",
        "    bert_predicted = []\n",
        "    all_logits = []\n",
        "    with torch.no_grad():\n",
        "        for step_num, batch_data in enumerate(test_dataloader):\n",
        "            token_ids, masks, labels = tuple(t.to(device) for t in batch_data)\n",
        "            probas = bert_clf(token_ids, masks)\n",
        "            numpy_probas = probas.cpu().detach().numpy()\n",
        "            bert_predicted_y += list(sigmoid(numpy_probas[:, 0])>0.5)\n",
        "            bert_predicted += list(sigmoid(numpy_probas[:, 0]))\n",
        "    bertResult = classification_report(test_y, bert_predicted_y)  \n",
        "    bertY += list(bert_predicted_y)\n",
        "    bertYProb += list(bert_predicted)\n",
        "    Y += list(test_y) \n",
        "\n",
        "    print(bertResult)    \n",
        "\n",
        "\n",
        "    train_dataset_for_distill = TensorDataset(train_tokens_tensor, train_masks_tensor, train_y_tensor)\n",
        "    train_dataloader_for_distill = DataLoader(train_dataset, batch_size=BATCH_SIZE)\n",
        "\n",
        "    bert_clf.eval()\n",
        "    train_logits = []\n",
        "    with torch.no_grad():\n",
        "        for step_num, batch_data in enumerate(train_dataloader_for_distill):\n",
        "\n",
        "            token_ids, masks, labels = tuple(t.to(device) for t in batch_data)\n",
        "\n",
        "            logits = bert_clf(token_ids, masks)\n",
        "            numpy_logits = logits.cpu().detach().numpy()\n",
        "        \n",
        "            train_logits.append(numpy_logits)\n",
        "    train_logits = np.vstack(train_logits)   \n",
        "    \n",
        "    distilled_model = make_pipeline(CountVectorizer(ngram_range=(1,3)), LinearRegression()).fit(train_texts, train_logits)\n",
        "    distilled_predicted_logits = distilled_model.predict(test_texts)\n",
        "    distilBertY += list(sigmoid(distilled_predicted_logits[:, 0]) > 0.5)\n",
        "    distilBertYProb += list(sigmoid(distilled_predicted_logits[:, 0]))\n",
        "    distBertResult = classification_report(test_y, sigmoid(distilled_predicted_logits[:, 0]) > 0.5)    \n",
        "    print(distBertResult)\n",
        "    distBertCovid.append(distBertResult)\n",
        "    bertResultCovid.append(bertResult)\n",
        "    print(roc_auc_score(Y, distilBertYProb))\n",
        "    print(roc_auc_score(Y, bertYProb))\n"
      ],
      "execution_count": null,
      "outputs": [
        {
          "output_type": "stream",
          "text": [
            "Epoch:  3\n",
            "147/147.66666666666666 loss: 0.0001357670854132094 \n",
            "              precision    recall  f1-score   support\n",
            "\n",
            "       False       1.00      1.00      1.00        81\n",
            "        True       1.00      1.00      1.00       115\n",
            "\n",
            "    accuracy                           1.00       196\n",
            "   macro avg       1.00      1.00      1.00       196\n",
            "weighted avg       1.00      1.00      1.00       196\n",
            "\n",
            "              precision    recall  f1-score   support\n",
            "\n",
            "       False       0.98      0.99      0.98        81\n",
            "        True       0.99      0.98      0.99       115\n",
            "\n",
            "    accuracy                           0.98       196\n",
            "   macro avg       0.98      0.99      0.98       196\n",
            "weighted avg       0.98      0.98      0.98       196\n",
            "\n",
            "0.9934399914956947\n",
            "0.9994461571170404\n"
          ],
          "name": "stdout"
        }
      ]
    },
    {
      "cell_type": "code",
      "metadata": {
        "colab": {
          "base_uri": "https://localhost:8080/"
        },
        "id": "NrzmnJ1Wqn6L",
        "outputId": "96f2ec68-786b-48f8-e860-5a3d49f15cba"
      },
      "source": [
        "print(distBertCovid)"
      ],
      "execution_count": null,
      "outputs": [
        {
          "output_type": "stream",
          "text": [
            "['              precision    recall  f1-score   support\\n\\n       False       0.92      0.96      0.94        82\\n        True       0.97      0.94      0.96       115\\n\\n    accuracy                           0.95       197\\n   macro avg       0.95      0.95      0.95       197\\nweighted avg       0.95      0.95      0.95       197\\n', '              precision    recall  f1-score   support\\n\\n       False       0.93      0.96      0.95        82\\n        True       0.97      0.95      0.96       115\\n\\n    accuracy                           0.95       197\\n   macro avg       0.95      0.96      0.95       197\\nweighted avg       0.95      0.95      0.95       197\\n', '              precision    recall  f1-score   support\\n\\n       False       0.98      1.00      0.99        82\\n        True       1.00      0.98      0.99       115\\n\\n    accuracy                           0.99       197\\n   macro avg       0.99      0.99      0.99       197\\nweighted avg       0.99      0.99      0.99       197\\n', '              precision    recall  f1-score   support\\n\\n       False       0.98      0.96      0.97        82\\n        True       0.97      0.98      0.98       115\\n\\n    accuracy                           0.97       197\\n   macro avg       0.97      0.97      0.97       197\\nweighted avg       0.97      0.97      0.97       197\\n', '              precision    recall  f1-score   support\\n\\n       False       1.00      1.00      1.00        82\\n        True       1.00      1.00      1.00       115\\n\\n    accuracy                           1.00       197\\n   macro avg       1.00      1.00      1.00       197\\nweighted avg       1.00      1.00      1.00       197\\n', '              precision    recall  f1-score   support\\n\\n       False       0.96      0.96      0.96        82\\n        True       0.97      0.97      0.97       115\\n\\n    accuracy                           0.97       197\\n   macro avg       0.97      0.97      0.97       197\\nweighted avg       0.97      0.97      0.97       197\\n', '              precision    recall  f1-score   support\\n\\n       False       0.99      0.93      0.96        82\\n        True       0.95      0.99      0.97       115\\n\\n    accuracy                           0.96       197\\n   macro avg       0.97      0.96      0.96       197\\nweighted avg       0.97      0.96      0.96       197\\n', '              precision    recall  f1-score   support\\n\\n       False       0.93      0.98      0.95        82\\n        True       0.98      0.95      0.96       115\\n\\n    accuracy                           0.96       197\\n   macro avg       0.96      0.96      0.96       197\\nweighted avg       0.96      0.96      0.96       197\\n', '              precision    recall  f1-score   support\\n\\n       False       0.96      0.98      0.97        81\\n        True       0.98      0.97      0.98       115\\n\\n    accuracy                           0.97       196\\n   macro avg       0.97      0.97      0.97       196\\nweighted avg       0.97      0.97      0.97       196\\n', '              precision    recall  f1-score   support\\n\\n       False       0.98      0.99      0.98        81\\n        True       0.99      0.98      0.99       115\\n\\n    accuracy                           0.98       196\\n   macro avg       0.98      0.99      0.98       196\\nweighted avg       0.98      0.98      0.98       196\\n']\n"
          ],
          "name": "stdout"
        }
      ]
    },
    {
      "cell_type": "code",
      "metadata": {
        "colab": {
          "base_uri": "https://localhost:8080/"
        },
        "id": "o6a3E8eeqpgg",
        "outputId": "932c1d35-5f23-4264-f946-193964efef26"
      },
      "source": [
        "print(bertResultCovid)"
      ],
      "execution_count": null,
      "outputs": [
        {
          "output_type": "stream",
          "text": [
            "['              precision    recall  f1-score   support\\n\\n       False       0.94      0.98      0.96        82\\n        True       0.98      0.96      0.97       115\\n\\n    accuracy                           0.96       197\\n   macro avg       0.96      0.97      0.96       197\\nweighted avg       0.97      0.96      0.96       197\\n', '              precision    recall  f1-score   support\\n\\n       False       1.00      0.98      0.99        82\\n        True       0.98      1.00      0.99       115\\n\\n    accuracy                           0.99       197\\n   macro avg       0.99      0.99      0.99       197\\nweighted avg       0.99      0.99      0.99       197\\n', '              precision    recall  f1-score   support\\n\\n       False       1.00      1.00      1.00        82\\n        True       1.00      1.00      1.00       115\\n\\n    accuracy                           1.00       197\\n   macro avg       1.00      1.00      1.00       197\\nweighted avg       1.00      1.00      1.00       197\\n', '              precision    recall  f1-score   support\\n\\n       False       1.00      0.96      0.98        82\\n        True       0.97      1.00      0.99       115\\n\\n    accuracy                           0.98       197\\n   macro avg       0.99      0.98      0.98       197\\nweighted avg       0.99      0.98      0.98       197\\n', '              precision    recall  f1-score   support\\n\\n       False       1.00      1.00      1.00        82\\n        True       1.00      1.00      1.00       115\\n\\n    accuracy                           1.00       197\\n   macro avg       1.00      1.00      1.00       197\\nweighted avg       1.00      1.00      1.00       197\\n', '              precision    recall  f1-score   support\\n\\n       False       1.00      1.00      1.00        82\\n        True       1.00      1.00      1.00       115\\n\\n    accuracy                           1.00       197\\n   macro avg       1.00      1.00      1.00       197\\nweighted avg       1.00      1.00      1.00       197\\n', '              precision    recall  f1-score   support\\n\\n       False       1.00      1.00      1.00        82\\n        True       1.00      1.00      1.00       115\\n\\n    accuracy                           1.00       197\\n   macro avg       1.00      1.00      1.00       197\\nweighted avg       1.00      1.00      1.00       197\\n', '              precision    recall  f1-score   support\\n\\n       False       1.00      1.00      1.00        82\\n        True       1.00      1.00      1.00       115\\n\\n    accuracy                           1.00       197\\n   macro avg       1.00      1.00      1.00       197\\nweighted avg       1.00      1.00      1.00       197\\n', '              precision    recall  f1-score   support\\n\\n       False       1.00      1.00      1.00        81\\n        True       1.00      1.00      1.00       115\\n\\n    accuracy                           1.00       196\\n   macro avg       1.00      1.00      1.00       196\\nweighted avg       1.00      1.00      1.00       196\\n', '              precision    recall  f1-score   support\\n\\n       False       1.00      1.00      1.00        81\\n        True       1.00      1.00      1.00       115\\n\\n    accuracy                           1.00       196\\n   macro avg       1.00      1.00      1.00       196\\nweighted avg       1.00      1.00      1.00       196\\n']\n"
          ],
          "name": "stdout"
        }
      ]
    },
    {
      "cell_type": "code",
      "metadata": {
        "colab": {
          "base_uri": "https://localhost:8080/"
        },
        "id": "i98RXqQp482e",
        "outputId": "babe6f1f-df69-451f-ab13-a2c95974f2c4"
      },
      "source": [
        "print(classification_report(Y, distilBertY,digits=3)) \n",
        "print(classification_report(Y, bertY,digits=3)) \n",
        "print(roc_auc_score(Y, distilBertYProb))\n",
        "print(roc_auc_score(Y, bertYProb))"
      ],
      "execution_count": null,
      "outputs": [
        {
          "output_type": "stream",
          "text": [
            "              precision    recall  f1-score   support\n",
            "\n",
            "       False      0.961     0.972     0.967       818\n",
            "        True      0.980     0.972     0.976      1150\n",
            "\n",
            "    accuracy                          0.972      1968\n",
            "   macro avg      0.971     0.972     0.971      1968\n",
            "weighted avg      0.972     0.972     0.972      1968\n",
            "\n",
            "              precision    recall  f1-score   support\n",
            "\n",
            "       False      0.994     0.991     0.993       818\n",
            "        True      0.994     0.996     0.995      1150\n",
            "\n",
            "    accuracy                          0.994      1968\n",
            "   macro avg      0.994     0.994     0.994      1968\n",
            "weighted avg      0.994     0.994     0.994      1968\n",
            "\n",
            "0.9934399914956947\n",
            "0.9994461571170404\n"
          ],
          "name": "stdout"
        }
      ]
    },
    {
      "cell_type": "code",
      "metadata": {
        "id": "0wcMgyoiqupo"
      },
      "source": [
        "from sklearn import tree\n",
        "from sklearn.feature_extraction.text import CountVectorizer\n",
        "from sklearn.linear_model import LogisticRegression\n",
        "from sklearn.pipeline import make_pipeline\n",
        "from sklearn.metrics import classification_report\n",
        "from sklearn.ensemble import RandomForestClassifier\n",
        "lrResultCovid = []\n",
        "treeResultCovid=[]\n",
        "rfResultCovid = []\n",
        "baseline_predicted1 = []\n",
        "baseline_predicted2 = []\n",
        "baseline_predicted3 = []\n",
        "baseline_predicted1Prob = []\n",
        "baseline_predicted2Prob = []\n",
        "baseline_predicted3Prob = []\n",
        "labels = []\n",
        "df = pd.read_csv('Covid192.csv' , header = 0, usecols=[0,1], encoding='latin-1')\n",
        "df = df.sample(frac=1).reset_index(drop=True)\n",
        "batch_1 = df\n",
        "n_split = 10\n",
        "Kfold = StratifiedKFold(n_splits=n_split, random_state=1).split(batch_1, batch_1['label'])\n",
        "for n_fold, (train_index, test_index) in enumerate(Kfold):\n",
        "    \n",
        "    train_data = batch_1.loc[train_index]\n",
        "    test_data = batch_1.loc[test_index]\n",
        "    train_texts = tuple(train_data['text']);\n",
        "    test_texts = tuple(test_data['text']);\n",
        "    train_labels = tuple(train_data['label']);\n",
        "    test_labels = tuple(test_data['label']);\n",
        "    labels.append(test_labels)\n",
        "    baseline_model = make_pipeline(CountVectorizer(ngram_range=(1,3)), LogisticRegression()).fit(train_texts, train_labels)\n",
        "    baseline_predicted1.append(baseline_model.predict(test_texts))\n",
        "    baseline_predicted1Prob.append(baseline_model.predict_proba(test_texts)[:, 1])\n",
        "    #lrResultCovid.append(classification_report(test_labels, baseline_predicted))\n",
        "    baseline_model = make_pipeline(CountVectorizer(ngram_range=(1,3)), tree.DecisionTreeClassifier()).fit(train_texts, train_labels)\n",
        "    baseline_predicted2.append(baseline_model.predict(test_texts))\n",
        "    baseline_predicted2Prob.append(baseline_model.predict_proba(test_texts)[:, 1])\n",
        "    #treeResultCovid.append(classification_report(test_labels, baseline_predicted))\n",
        "    baseline_model = make_pipeline(CountVectorizer(ngram_range=(1,3)), RandomForestClassifier()).fit(train_texts, train_labels)\n",
        "    baseline_predicted3.append(baseline_model.predict(test_texts))\n",
        "    baseline_predicted3Prob.append(baseline_model.predict_proba(test_texts)[:, 1])\n",
        "    #rfResultCovid.append(classification_report(test_labels, baseline_predicted))\n",
        "\n"
      ],
      "execution_count": null,
      "outputs": []
    },
    {
      "cell_type": "code",
      "metadata": {
        "id": "iTNTpcpSvO8Z"
      },
      "source": [
        "labels = np.concatenate(labels)\n",
        "baseline_predicted1 = np.concatenate(baseline_predicted1)\n",
        "baseline_predicted2 = np.concatenate(baseline_predicted2)\n",
        "baseline_predicted3 = np.concatenate(baseline_predicted3)\n",
        "baseline_predicted1Prob = np.concatenate(baseline_predicted1Prob)\n",
        "baseline_predicted2Prob = np.concatenate(baseline_predicted2Prob)\n",
        "baseline_predicted3Prob = np.concatenate(baseline_predicted3Prob)\n"
      ],
      "execution_count": null,
      "outputs": []
    },
    {
      "cell_type": "code",
      "metadata": {
        "colab": {
          "base_uri": "https://localhost:8080/"
        },
        "id": "GpkpWJ90F2Ky",
        "outputId": "8342502f-635b-4ff1-b38b-d4d644457e97"
      },
      "source": [
        "print(roc_auc_score(labels, baseline_predicted1Prob))\n",
        "print(roc_auc_score(labels, baseline_predicted2Prob))\n",
        "print(roc_auc_score(labels, baseline_predicted3Prob))\n",
        "\n",
        "print(classification_report(labels, baseline_predicted1,digits=3))\n",
        "print(classification_report(labels, baseline_predicted2,digits=3))\n",
        "print(classification_report(labels, baseline_predicted3,digits=3))"
      ],
      "execution_count": null,
      "outputs": [
        {
          "output_type": "stream",
          "text": [
            "0.9917401934729456\n",
            "0.897010736685447\n",
            "0.98654087381737\n",
            "              precision    recall  f1-score   support\n",
            "\n",
            "         neg      0.949     0.939     0.944       818\n",
            "         pos      0.957     0.964     0.961      1150\n",
            "\n",
            "    accuracy                          0.954      1968\n",
            "   macro avg      0.953     0.952     0.952      1968\n",
            "weighted avg      0.954     0.954     0.954      1968\n",
            "\n",
            "              precision    recall  f1-score   support\n",
            "\n",
            "         neg      0.872     0.886     0.879       818\n",
            "         pos      0.918     0.908     0.913      1150\n",
            "\n",
            "    accuracy                          0.899      1968\n",
            "   macro avg      0.895     0.897     0.896      1968\n",
            "weighted avg      0.899     0.899     0.899      1968\n",
            "\n",
            "              precision    recall  f1-score   support\n",
            "\n",
            "         neg      0.930     0.925     0.928       818\n",
            "         pos      0.947     0.950     0.949      1150\n",
            "\n",
            "    accuracy                          0.940      1968\n",
            "   macro avg      0.939     0.938     0.938      1968\n",
            "weighted avg      0.940     0.940     0.940      1968\n",
            "\n"
          ],
          "name": "stdout"
        }
      ]
    },
    {
      "cell_type": "code",
      "metadata": {
        "id": "sg1LxPi4yAg8"
      },
      "source": [
        ""
      ],
      "execution_count": null,
      "outputs": []
    }
  ]
}